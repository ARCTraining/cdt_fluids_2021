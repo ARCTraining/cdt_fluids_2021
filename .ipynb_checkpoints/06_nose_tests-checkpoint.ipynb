{
 "cells": [
  {
   "cell_type": "markdown",
   "metadata": {},
   "source": [
    "# Automating tests using nose"
   ]
  },
  {
   "cell_type": "markdown",
   "metadata": {},
   "source": [
    "## Testing Frameworks\n",
    "Each time we make changes to a code, we would like to test it. This can be tedious and that might prevent us from testing. We want to make testing as easy as version control is. A testing framework can help us.\n",
    "\n",
    "The testing framework we will discuss today is a python library called nose. However, there are several other testing frameworks available in most languages. Most notably there is JUnit in Java which can arguably be attributed to inventing the testing framework.\n",
    "\n",
    "## Nose\n",
    "In nose, each test is a function whose name begins with the letters test_. We can group tests together in files whose names also begin with the letters test_. To execute our tests we run the command nosetests. This automatically searches the current directory and its subdirectories for test files, and runs the tests they contain.\n",
    "\n",
    "## Applying nose to the range_overlap example\n",
    "To see how this works, let's look at how we'd use it to test the range_overlap example.\n",
    "\n",
    "We have to put our range_overlap in a file `ranges.py`:"
   ]
  },
  {
   "cell_type": "code",
   "execution_count": 1,
   "metadata": {},
   "outputs": [],
   "source": [
    "def range_overlap(ranges):\n",
    "    \"\"\"Return common overlap among a set of [low, high] ranges\"\"\"\n",
    "    lowest = ranges[0][0]\n",
    "    highest = ranges[0][1]\n",
    "    for (low, high) in ranges:\n",
    "        lowest = max(lowest, low)\n",
    "        highest = min(highest, high)\n",
    "        if lowest > highest:\n",
    "            return None\n",
    "        elif lowest == highest:\n",
    "            return None\n",
    "        else:\n",
    "            return (lowest, highest)"
   ]
  },
  {
   "cell_type": "markdown",
   "metadata": {},
   "source": [
    "and create a file `test_range_overlap.py`"
   ]
  },
  {
   "cell_type": "code",
   "execution_count": null,
   "metadata": {},
   "outputs": [],
   "source": [
    "from ranges import range_overlap\n",
    "\n",
    "\n",
    "def test_no_overlap():\n",
    "    assert range_overlap([ (0.0, 1.0), (5.0, 6.0) ]) == None\n",
    "\n",
    "\n",
    "def test_length_zero_overlap():\n",
    "    assert range_overlap([ (0.0, 1.0), (1.0, 2.0) ]) == None\n",
    "\n",
    "\n",
    "def test_single_range():\n",
    "    assert range_overlap([ (0.0, 1.0) ]) == (0.0, 1.0)\n",
    "\n",
    "\n",
    "def test_negative_range():\n",
    "    assert range_overlap([ (0.0, 1.0), (0.0, 2.0),\n",
    "                           (-1.0, 1.0) ]) == (0.0, 1.0)"
   ]
  },
  {
   "cell_type": "markdown",
   "metadata": {},
   "source": [
    "Run the tests (at the command line): `nosetests`"
   ]
  },
  {
   "cell_type": "markdown",
   "metadata": {},
   "source": [
    "nose searches for files starting with test_ and runs functions called test_. Nose writes a . for every successful test. Failed tests get a F. At the end we get a summary of any failed tests. This makes testing a single command. This is easy to add to a git add & git commit sequence. Of course, we still have to add tests before (or after) we add new functionality.\n",
    "\n",
    "Stepping back, the most important part of this lesson isn't the details of the nose library. It's that your time is more valuable than the computer's, so you should spend it doing the things computers can't, like thinking of interesting test cases and what your code is actually supposed to do.\n",
    "\n",
    "Nose and other libraries like it are there to handle all the things that you shouldn't have to re-think each time."
   ]
  },
  {
   "cell_type": "markdown",
   "metadata": {},
   "source": [
    "### Activity: Writing and running a test suite\n",
    "\n",
    "Write a function to calculate the mean of a `list` that is passed into it.\n",
    "\n",
    "Write a series of tests to exercise the function and run using `nose`\n",
    "\n",
    "We'll then come back and discuss our results."
   ]
  },
  {
   "cell_type": "code",
   "execution_count": null,
   "metadata": {},
   "outputs": [],
   "source": []
  }
 ],
 "metadata": {
  "kernelspec": {
   "display_name": "Python 3",
   "language": "python",
   "name": "python3"
  },
  "language_info": {
   "codemirror_mode": {
    "name": "ipython",
    "version": 3
   },
   "file_extension": ".py",
   "mimetype": "text/x-python",
   "name": "python",
   "nbconvert_exporter": "python",
   "pygments_lexer": "ipython3",
   "version": "3.7.0"
  }
 },
 "nbformat": 4,
 "nbformat_minor": 2
}
