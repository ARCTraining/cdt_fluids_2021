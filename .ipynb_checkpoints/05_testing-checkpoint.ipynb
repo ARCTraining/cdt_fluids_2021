{
  "nbformat": 4,
  "nbformat_minor": 0,
  "metadata": {
    "colab": {
      "name": "05_testing.ipynb",
      "provenance": []
    },
    "kernelspec": {
      "name": "python3",
      "display_name": "Python 3"
    },
    "language_info": {
      "name": "python"
    }
  },
  "cells": [
    {
      "cell_type": "markdown",
      "metadata": {
        "id": "NoKzadPKP2BA"
      },
      "source": [
        "# Testing our software"
      ]
    },
    {
      "cell_type": "markdown",
      "metadata": {
        "id": "wosTwF20P6y6"
      },
      "source": [
        "The first step toward getting the right answers from our programs is to assume that mistakes will happen and to guard against them. This is called **defensive programming** and the most common way to do it is to add alarms and tests into our code so that it checks itself.\n",
        "\n",
        "Testing should be a seamless part of scientific software development process. This is analogous to experiment design in the experimental science world:\n",
        "\n",
        "At the beginning of a new project, tests can be used to help guide the overall design of the project.\n",
        "The act of writing tests can help clarify how the software should be perform when you are done.\n",
        "\n",
        "In fact, starting to write the tests before you even write the software might be advisable. (Such a practice is called **test-driven development**, which we will discuss in greater detail on.)\n",
        "\n",
        "There are many ways to test software, such as:\n",
        "\n",
        "* Assertions\n",
        "* Exceptions\n",
        "* Unit Tests\n",
        "* Regresson Tests\n",
        "* Integration Tests"
      ]
    },
    {
      "cell_type": "markdown",
      "metadata": {
        "id": "R1GFpcIaQXuP"
      },
      "source": [
        "*Exceptions and Assertions*: While writing code, `exceptions` and `assertions` can be added to sound an alarm as runtime problems come up. These kinds of tests, are embedded in the code iteself and handle, as their name implies, exceptional cases rather than the norm.\n",
        "\n",
        "*Unit Tests*: Unit tests investigate the behavior of units of code (such as functions, classes, or data structures). By validating each software unit across the valid range of its input and output parameters, tracking down unexpected behavior that may appear when the units are combined is made vastly simpler.\n",
        "\n",
        "*Regression Tests*: Regression tests defend against new bugs, or regressions, which might appear due to new software and updates.\n",
        "\n",
        "*Integration Tests*: Integration tests check that various pieces of the software work together as expected."
      ]
    },
    {
      "cell_type": "code",
      "metadata": {
        "id": "-IzQ-CrFP1MT"
      },
      "source": [
        ""
      ],
      "execution_count": null,
      "outputs": []
    },
    {
      "cell_type": "code",
      "metadata": {
        "id": "0vX_7pFmP4uw"
      },
      "source": [
        ""
      ],
      "execution_count": null,
      "outputs": []
    }
  ]
}