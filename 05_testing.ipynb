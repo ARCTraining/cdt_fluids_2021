{
 "cells": [
  {
   "cell_type": "markdown",
   "metadata": {
    "id": "NoKzadPKP2BA"
   },
   "source": [
    "# Testing our software"
   ]
  },
  {
   "cell_type": "markdown",
   "metadata": {
    "id": "wosTwF20P6y6"
   },
   "source": [
    "The first step toward getting the right answers from our programs is to assume that mistakes will happen and to guard against them. This is called **defensive programming** and the most common way to do it is to add alarms and tests into our code so that it checks itself.\n",
    "\n",
    "Testing should be a seamless part of scientific software development process. This is analogous to experiment design in the experimental science world:\n",
    "\n",
    "At the beginning of a new project, tests can be used to help guide the overall design of the project.\n",
    "The act of writing tests can help clarify how the software should be perform when you are done.\n",
    "\n",
    "In fact, starting to write the tests before you even write the software might be advisable. (Such a practice is called **test-driven development**, which we will discuss in greater detail on.)\n",
    "\n",
    "There are many ways to test software, such as:\n",
    "\n",
    "* Assertions\n",
    "* Exceptions\n",
    "* Unit Tests\n",
    "* Regresson Tests\n",
    "* Integration Tests"
   ]
  },
  {
   "cell_type": "markdown",
   "metadata": {
    "id": "R1GFpcIaQXuP"
   },
   "source": [
    "*Exceptions and Assertions*: While writing code, `exceptions` and `assertions` can be added to sound an alarm as runtime problems come up. These kinds of tests, are embedded in the code iteself and handle, as their name implies, exceptional cases rather than the norm.\n",
    "\n",
    "*Unit Tests*: Unit tests investigate the behavior of units of code (such as functions, classes, or data structures). By validating each software unit across the valid range of its input and output parameters, tracking down unexpected behavior that may appear when the units are combined is made vastly simpler.\n",
    "\n",
    "*Regression Tests*: Regression tests defend against new bugs, or regressions, which might appear due to new software and updates.\n",
    "\n",
    "*Integration Tests*: Integration tests check that various pieces of the software work together as expected."
   ]
  },
  {
   "cell_type": "markdown",
   "metadata": {
    "id": "-IzQ-CrFP1MT"
   },
   "source": [
    "## Errors and Exceptions"
   ]
  },
  {
   "cell_type": "code",
   "execution_count": 2,
   "metadata": {
    "id": "0vX_7pFmP4uw"
   },
   "outputs": [
    {
     "name": "stdout",
     "output_type": "stream",
     "text": [
      "strawberry\n"
     ]
    }
   ],
   "source": [
    "# This code has an intentional error. You can type it directly or\n",
    "# use it for reference to understand the error message below.\n",
    "def favourite_ice_cream():\n",
    "    ice_creams = [\n",
    "        'chocolate',\n",
    "        'vanilla',\n",
    "        'strawberry'\n",
    "    ]\n",
    "    print(ice_creams[2])\n",
    "\n",
    "favourite_ice_cream()"
   ]
  },
  {
   "cell_type": "markdown",
   "metadata": {},
   "source": [
    "Errors in Python have a very specific form, called a traceback"
   ]
  },
  {
   "cell_type": "markdown",
   "metadata": {},
   "source": [
    "### Syntax errors"
   ]
  },
  {
   "cell_type": "code",
   "execution_count": 5,
   "metadata": {},
   "outputs": [],
   "source": [
    "def some_function():\n",
    "    msg = 'hello, world!'\n",
    "    print(msg)\n",
    "    return msg"
   ]
  },
  {
   "cell_type": "code",
   "execution_count": 6,
   "metadata": {},
   "outputs": [
    {
     "ename": "IndentationError",
     "evalue": "unexpected indent (<ipython-input-6-b1c076544652>, line 4)",
     "output_type": "error",
     "traceback": [
      "\u001b[0;36m  File \u001b[0;32m\"<ipython-input-6-b1c076544652>\"\u001b[0;36m, line \u001b[0;32m4\u001b[0m\n\u001b[0;31m    return msg\u001b[0m\n\u001b[0m    ^\u001b[0m\n\u001b[0;31mIndentationError\u001b[0m\u001b[0;31m:\u001b[0m unexpected indent\n"
     ]
    }
   ],
   "source": [
    "def some_function():\n",
    "    msg = 'hello, world!'\n",
    "    print(msg)\n",
    "    return msg"
   ]
  },
  {
   "cell_type": "markdown",
   "metadata": {},
   "source": [
    "* What are the errors?\n",
    "* How do we fix them?\n",
    "* What **is** a syntax error? *An error in the syntax or the 'grammar' of a programming language*"
   ]
  },
  {
   "cell_type": "markdown",
   "metadata": {},
   "source": [
    "### Tabs and spaces"
   ]
  },
  {
   "cell_type": "code",
   "execution_count": 9,
   "metadata": {},
   "outputs": [],
   "source": [
    "def some_function():\n",
    "    msg = 'hello, world!'\n",
    "    print(msg)\n",
    "    return msg"
   ]
  },
  {
   "cell_type": "markdown",
   "metadata": {},
   "source": [
    "### Variable name errors\n",
    "\n",
    "Another very common type of error is called a `NameError`, and occurs when you try to use a variable that does not exist. For example:"
   ]
  },
  {
   "cell_type": "code",
   "execution_count": 11,
   "metadata": {},
   "outputs": [
    {
     "name": "stdout",
     "output_type": "stream",
     "text": [
      "10\n"
     ]
    }
   ],
   "source": [
    "a = 10\n",
    "print(a)"
   ]
  },
  {
   "cell_type": "code",
   "execution_count": 13,
   "metadata": {},
   "outputs": [
    {
     "name": "stdout",
     "output_type": "stream",
     "text": [
      "The count is: 45\n"
     ]
    }
   ],
   "source": [
    "count = 0 #initialise a counter variable\n",
    "for number in range(10):\n",
    "    count = count + number\n",
    "print('The count is:', count)"
   ]
  },
  {
   "cell_type": "code",
   "execution_count": 15,
   "metadata": {},
   "outputs": [
    {
     "name": "stdout",
     "output_type": "stream",
     "text": [
      "The count is: 45\n"
     ]
    }
   ],
   "source": [
    "count = 0 #variable names are case sensitive\n",
    "for number in range(10):\n",
    "    count = count + number\n",
    "print('The count is:', count)"
   ]
  },
  {
   "cell_type": "markdown",
   "metadata": {},
   "source": [
    "### Index errors"
   ]
  },
  {
   "cell_type": "code",
   "execution_count": 17,
   "metadata": {},
   "outputs": [
    {
     "name": "stdout",
     "output_type": "stream",
     "text": [
      "Letter #1 is a\n",
      "Letter #2 is b\n",
      "Letter #3 is c\n"
     ]
    }
   ],
   "source": [
    "letters = ['a', 'b', 'c']\n",
    "print('Letter #1 is', letters[0])\n",
    "print('Letter #2 is', letters[1])\n",
    "print('Letter #3 is', letters[2])\n",
    "#print('Letter #4 is', letters[3])"
   ]
  },
  {
   "cell_type": "markdown",
   "metadata": {},
   "source": [
    "### File errors"
   ]
  },
  {
   "cell_type": "code",
   "execution_count": 24,
   "metadata": {},
   "outputs": [],
   "source": [
    "file_handle = open('myfile.txt', 'r')\n",
    "# Attempt to open a file in reading mode\n",
    "# The file doesn't exist- so an error"
   ]
  },
  {
   "cell_type": "code",
   "execution_count": 20,
   "metadata": {},
   "outputs": [
    {
     "name": "stdout",
     "output_type": "stream",
     "text": [
      "05_testing.ipynb README.md\n"
     ]
    }
   ],
   "source": [
    "!ls"
   ]
  },
  {
   "cell_type": "code",
   "execution_count": 22,
   "metadata": {},
   "outputs": [
    {
     "ename": "UnsupportedOperation",
     "evalue": "not readable",
     "output_type": "error",
     "traceback": [
      "\u001b[0;31m---------------------------------------------------------------------------\u001b[0m",
      "\u001b[0;31mUnsupportedOperation\u001b[0m                      Traceback (most recent call last)",
      "\u001b[0;32m<ipython-input-22-3c1c0f7263ca>\u001b[0m in \u001b[0;36m<module>\u001b[0;34m()\u001b[0m\n\u001b[1;32m      1\u001b[0m \u001b[0mfile_handle\u001b[0m \u001b[0;34m=\u001b[0m \u001b[0mopen\u001b[0m\u001b[0;34m(\u001b[0m\u001b[0;34m'myfile.txt'\u001b[0m\u001b[0;34m,\u001b[0m \u001b[0;34m'w'\u001b[0m\u001b[0;34m)\u001b[0m\u001b[0;34m\u001b[0m\u001b[0m\n\u001b[0;32m----> 2\u001b[0;31m \u001b[0mfile_handle\u001b[0m\u001b[0;34m.\u001b[0m\u001b[0mread\u001b[0m\u001b[0;34m(\u001b[0m\u001b[0;34m)\u001b[0m\u001b[0;34m\u001b[0m\u001b[0m\n\u001b[0m\u001b[1;32m      3\u001b[0m \u001b[0;31m# Opened a file for writing (which will create an empty file)\u001b[0m\u001b[0;34m\u001b[0m\u001b[0;34m\u001b[0m\u001b[0m\n\u001b[1;32m      4\u001b[0m \u001b[0;31m# Try to read from it\u001b[0m\u001b[0;34m\u001b[0m\u001b[0;34m\u001b[0m\u001b[0m\n",
      "\u001b[0;31mUnsupportedOperation\u001b[0m: not readable"
     ]
    }
   ],
   "source": [
    "file_handle = open('myfile.txt', 'w')\n",
    "file_handle.read()\n",
    "# Opened a file for writing (which will create an empty file)\n",
    "# Try to read from it"
   ]
  },
  {
   "cell_type": "code",
   "execution_count": 23,
   "metadata": {},
   "outputs": [
    {
     "name": "stdout",
     "output_type": "stream",
     "text": [
      "05_testing.ipynb README.md        myfile.txt\n"
     ]
    }
   ],
   "source": [
    "!ls"
   ]
  },
  {
   "cell_type": "markdown",
   "metadata": {},
   "source": [
    "### Activity\n",
    "\n",
    "Read the Python code and the resulting traceback below, and answer the following questions:  \n",
    "* How many levels does the traceback have?\n",
    "* What is the function name where the error occurred?\n",
    "* On which line number in this function did the error occur?\n",
    "* What is the type of error?\n",
    "* What is the error message?"
   ]
  },
  {
   "cell_type": "code",
   "execution_count": null,
   "metadata": {},
   "outputs": [],
   "source": [
    "# This code has an intentional error. Do not type it directly;\n",
    "# use it for reference to understand the error message below.\n",
    "def print_message(day):\n",
    "    messages = {\n",
    "        'monday': 'Hello, world!',\n",
    "        'tuesday': 'Today is Tuesday!',\n",
    "        'wednesday': 'It is the middle of the week.',\n",
    "        'thursday': 'Today is Donnerstag in German!',\n",
    "        'friday': 'Last day of the week!',\n",
    "        'saturday': 'Hooray for the weekend!',\n",
    "        'sunday': 'Aw, the weekend is almost over.'\n",
    "    }\n",
    "    print(messages[day])\n",
    "\n",
    "def print_friday_message():\n",
    "    print_message('Friday')\n",
    "\n",
    "print_friday_message()"
   ]
  },
  {
   "cell_type": "markdown",
   "metadata": {},
   "source": [
    "### Activity: Identifying syntax errors\n",
    "Read the code below, and (without running it) try to identify what the errors are.\n",
    "\n",
    "Run the code, and read the error message. \n",
    "\n",
    "Is it a SyntaxError or an IndentationError?\n",
    "\n",
    "Fix the error.\n",
    "\n",
    "Repeat steps 2 and 3, until you have fixed all the errors.\n"
   ]
  },
  {
   "cell_type": "code",
   "execution_count": null,
   "metadata": {},
   "outputs": [],
   "source": [
    "def another_function\n",
    "  print('Syntax errors are annoying.')\n",
    "   print('But at least Python tells us about them!')\n",
    "  print('So they are usually not too hard to fix.')"
   ]
  },
  {
   "cell_type": "markdown",
   "metadata": {},
   "source": [
    "### Activity: Identifying variable name errors\n",
    "\n",
    "1. Read the code below, and (without running it) try to identify what the errors are.\n",
    "2. Run the code, and read the error message. What type of NameError do you think this is? In other words, is it a string with no quotes, a misspelled variable, or a variable that should have been defined but was not?\n",
    "3. Fix the error.\n",
    "4. Repeat steps 2 and 3, until you have fixed all the errors."
   ]
  },
  {
   "cell_type": "code",
   "execution_count": null,
   "metadata": {},
   "outputs": [],
   "source": [
    "for number in range(10):\n",
    "    # use a if the number is a multiple of 3, otherwise use b\n",
    "    if (Number % 3) == 0:\n",
    "        message = message + a\n",
    "    else:\n",
    "        message = message + 'b'\n",
    "print(message)"
   ]
  },
  {
   "cell_type": "markdown",
   "metadata": {},
   "source": [
    "### Activity: Identifying index errors\n",
    "\n",
    "1. Read the code below, and (without running it) try to identify what the errors are.\n",
    "2. Run the code, and read the error message. What type of error is it?\n",
    "3. Fix the error."
   ]
  },
  {
   "cell_type": "code",
   "execution_count": null,
   "metadata": {},
   "outputs": [],
   "source": [
    "seasons = ['Spring', 'Summer', 'Fall', 'Winter']\n",
    "print('My favorite season is ', seasons[4])"
   ]
  },
  {
   "cell_type": "code",
   "execution_count": null,
   "metadata": {},
   "outputs": [],
   "source": []
  }
 ],
 "metadata": {
  "colab": {
   "name": "05_testing.ipynb",
   "provenance": []
  },
  "kernelspec": {
   "display_name": "Python 3",
   "language": "python",
   "name": "python3"
  },
  "language_info": {
   "codemirror_mode": {
    "name": "ipython",
    "version": 3
   },
   "file_extension": ".py",
   "mimetype": "text/x-python",
   "name": "python",
   "nbconvert_exporter": "python",
   "pygments_lexer": "ipython3",
   "version": "3.7.0"
  }
 },
 "nbformat": 4,
 "nbformat_minor": 2
}
