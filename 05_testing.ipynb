{
 "cells": [
  {
   "cell_type": "markdown",
   "metadata": {
    "id": "NoKzadPKP2BA"
   },
   "source": [
    "# Testing our software"
   ]
  },
  {
   "cell_type": "markdown",
   "metadata": {
    "id": "wosTwF20P6y6"
   },
   "source": [
    "The first step toward getting the right answers from our programs is to assume that mistakes will happen and to guard against them. This is called **defensive programming** and the most common way to do it is to add alarms and tests into our code so that it checks itself.\n",
    "\n",
    "Testing should be a seamless part of scientific software development process. This is analogous to experiment design in the experimental science world:\n",
    "\n",
    "At the beginning of a new project, tests can be used to help guide the overall design of the project.\n",
    "The act of writing tests can help clarify how the software should be perform when you are done.\n",
    "\n",
    "In fact, starting to write the tests before you even write the software might be advisable. (Such a practice is called **test-driven development**, which we will discuss in greater detail on.)\n",
    "\n",
    "There are many ways to test software, such as:\n",
    "\n",
    "* Assertions\n",
    "* Exceptions\n",
    "* Unit Tests\n",
    "* Regresson Tests\n",
    "* Integration Tests"
   ]
  },
  {
   "cell_type": "markdown",
   "metadata": {
    "id": "R1GFpcIaQXuP"
   },
   "source": [
    "*Exceptions and Assertions*: While writing code, `exceptions` and `assertions` can be added to sound an alarm as runtime problems come up. These kinds of tests, are embedded in the code iteself and handle, as their name implies, exceptional cases rather than the norm.\n",
    "\n",
    "*Unit Tests*: Unit tests investigate the behavior of units of code (such as functions, classes, or data structures). By validating each software unit across the valid range of its input and output parameters, tracking down unexpected behavior that may appear when the units are combined is made vastly simpler.\n",
    "\n",
    "*Regression Tests*: Regression tests defend against new bugs, or regressions, which might appear due to new software and updates.\n",
    "\n",
    "*Integration Tests*: Integration tests check that various pieces of the software work together as expected."
   ]
  },
  {
   "cell_type": "markdown",
   "metadata": {
    "id": "-IzQ-CrFP1MT"
   },
   "source": [
    "## Errors and Exceptions"
   ]
  },
  {
   "cell_type": "code",
   "execution_count": null,
   "metadata": {
    "id": "0vX_7pFmP4uw"
   },
   "outputs": [],
   "source": [
    "# This code has an intentional error. You can type it directly or\n",
    "# use it for reference to understand the error message below.\n",
    "def favourite_ice_cream():\n",
    "    ice_creams = [\n",
    "        'chocolate',\n",
    "        'vanilla',\n",
    "        'strawberry'\n",
    "    ]\n",
    "    print(ice_creams[3])\n",
    "\n",
    "favourite_ice_cream()"
   ]
  },
  {
   "cell_type": "markdown",
   "metadata": {},
   "source": [
    "Errors in Python have a very specific form, called a traceback"
   ]
  },
  {
   "cell_type": "markdown",
   "metadata": {},
   "source": [
    "### Syntax errors"
   ]
  },
  {
   "cell_type": "code",
   "execution_count": null,
   "metadata": {},
   "outputs": [],
   "source": [
    "def some_function()\n",
    "    msg = 'hello, world!'\n",
    "    print(msg)\n",
    "     return msg"
   ]
  },
  {
   "cell_type": "code",
   "execution_count": null,
   "metadata": {},
   "outputs": [],
   "source": [
    "def some_function():\n",
    "    msg = 'hello, world!'\n",
    "    print(msg)\n",
    "     return msg"
   ]
  },
  {
   "cell_type": "markdown",
   "metadata": {},
   "source": [
    "### Tabs and spaces"
   ]
  },
  {
   "cell_type": "code",
   "execution_count": null,
   "metadata": {},
   "outputs": [],
   "source": [
    "def some_function():\n",
    "\tmsg = 'hello, world!'\n",
    "\tprint(msg)\n",
    "        return msg"
   ]
  },
  {
   "cell_type": "markdown",
   "metadata": {},
   "source": [
    "### Variable name errors"
   ]
  },
  {
   "cell_type": "code",
   "execution_count": null,
   "metadata": {},
   "outputs": [],
   "source": [
    "print(a)"
   ]
  },
  {
   "cell_type": "code",
   "execution_count": null,
   "metadata": {},
   "outputs": [],
   "source": [
    "for number in range(10):\n",
    "    count = count + number\n",
    "print('The count is:', count)"
   ]
  },
  {
   "cell_type": "code",
   "execution_count": null,
   "metadata": {},
   "outputs": [],
   "source": [
    "Count = 0\n",
    "for number in range(10):\n",
    "    count = count + number\n",
    "print('The count is:', count)"
   ]
  },
  {
   "cell_type": "markdown",
   "metadata": {},
   "source": [
    "### Index errors"
   ]
  },
  {
   "cell_type": "code",
   "execution_count": null,
   "metadata": {},
   "outputs": [],
   "source": [
    "letters = ['a', 'b', 'c']\n",
    "print('Letter #1 is', letters[0])\n",
    "print('Letter #2 is', letters[1])\n",
    "print('Letter #3 is', letters[2])\n",
    "print('Letter #4 is', letters[3])"
   ]
  },
  {
   "cell_type": "markdown",
   "metadata": {},
   "source": [
    "### File errors"
   ]
  },
  {
   "cell_type": "code",
   "execution_count": null,
   "metadata": {},
   "outputs": [],
   "source": [
    "file_handle = open('myfile.txt', 'r')"
   ]
  },
  {
   "cell_type": "code",
   "execution_count": null,
   "metadata": {},
   "outputs": [],
   "source": [
    "file_handle = open('myfile.txt', 'w')\n",
    "file_handle.read()"
   ]
  },
  {
   "cell_type": "markdown",
   "metadata": {},
   "source": [
    "### Activity\n",
    "\n",
    "Read the Python code and the resulting traceback below, and answer the following questions:  \n",
    "* How many levels does the traceback have?\n",
    "* What is the function name where the error occurred?\n",
    "* On which line number in this function did the error occur?\n",
    "* What is the type of error?\n",
    "* What is the error message?"
   ]
  },
  {
   "cell_type": "code",
   "execution_count": null,
   "metadata": {},
   "outputs": [],
   "source": [
    "# This code has an intentional error. Do not type it directly;\n",
    "# use it for reference to understand the error message below.\n",
    "def print_message(day):\n",
    "    messages = {\n",
    "        'monday': 'Hello, world!',\n",
    "        'tuesday': 'Today is Tuesday!',\n",
    "        'wednesday': 'It is the middle of the week.',\n",
    "        'thursday': 'Today is Donnerstag in German!',\n",
    "        'friday': 'Last day of the week!',\n",
    "        'saturday': 'Hooray for the weekend!',\n",
    "        'sunday': 'Aw, the weekend is almost over.'\n",
    "    }\n",
    "    print(messages[day])\n",
    "\n",
    "def print_friday_message():\n",
    "    print_message('Friday')\n",
    "\n",
    "print_friday_message()"
   ]
  },
  {
   "cell_type": "markdown",
   "metadata": {},
   "source": [
    "### Activity: Identifying syntax errors\n",
    "Read the code below, and (without running it) try to identify what the errors are.\n",
    "\n",
    "Run the code, and read the error message. \n",
    "\n",
    "Is it a SyntaxError or an IndentationError?\n",
    "\n",
    "Fix the error.\n",
    "\n",
    "Repeat steps 2 and 3, until you have fixed all the errors.\n"
   ]
  },
  {
   "cell_type": "code",
   "execution_count": null,
   "metadata": {},
   "outputs": [],
   "source": [
    "def another_function\n",
    "  print('Syntax errors are annoying.')\n",
    "   print('But at least Python tells us about them!')\n",
    "  print('So they are usually not too hard to fix.')"
   ]
  },
  {
   "cell_type": "markdown",
   "metadata": {},
   "source": [
    "### Activity: Identifying variable name errors\n",
    "\n",
    "1. Read the code below, and (without running it) try to identify what the errors are.\n",
    "2. Run the code, and read the error message. What type of NameError do you think this is? In other words, is it a string with no quotes, a misspelled variable, or a variable that should have been defined but was not?\n",
    "3. Fix the error.\n",
    "4. Repeat steps 2 and 3, until you have fixed all the errors."
   ]
  },
  {
   "cell_type": "code",
   "execution_count": null,
   "metadata": {},
   "outputs": [],
   "source": [
    "for number in range(10):\n",
    "    # use a if the number is a multiple of 3, otherwise use b\n",
    "    if (Number % 3) == 0:\n",
    "        message = message + a\n",
    "    else:\n",
    "        message = message + 'b'\n",
    "print(message)"
   ]
  },
  {
   "cell_type": "markdown",
   "metadata": {},
   "source": [
    "### Activity: Identifying index errors\n",
    "\n",
    "1. Read the code below, and (without running it) try to identify what the errors are.\n",
    "2. Run the code, and read the error message. What type of error is it?\n",
    "3. Fix the error."
   ]
  },
  {
   "cell_type": "code",
   "execution_count": null,
   "metadata": {},
   "outputs": [],
   "source": [
    "seasons = ['Spring', 'Summer', 'Fall', 'Winter']\n",
    "print('My favorite season is ', seasons[4])"
   ]
  },
  {
   "cell_type": "code",
   "execution_count": null,
   "metadata": {},
   "outputs": [],
   "source": []
  }
 ],
 "metadata": {
  "colab": {
   "name": "05_testing.ipynb",
   "provenance": []
  },
  "kernelspec": {
   "display_name": "Python 3",
   "language": "python",
   "name": "python3"
  },
  "language_info": {
   "codemirror_mode": {
    "name": "ipython",
    "version": 3
   },
   "file_extension": ".py",
   "mimetype": "text/x-python",
   "name": "python",
   "nbconvert_exporter": "python",
   "pygments_lexer": "ipython3",
   "version": "3.7.0"
  }
 },
 "nbformat": 4,
 "nbformat_minor": 2
}
